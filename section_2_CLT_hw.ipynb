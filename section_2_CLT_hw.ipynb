{
 "cells": [
  {
   "cell_type": "markdown",
   "metadata": {},
   "source": [
    "## Section 2: Central limit Theorem Analytics Challenge:\n",
    "## Part 1\n",
    "#### You are a Business Analyst working for a logistics delivery company. \n",
    "#### A business client has requested a large freight to be transported urgently from Denver to Salt Lake City. When asked about the weight of the cargo, they could not supply the exact weight. However, they have specified that there are a total of 36 boxes.\n",
    "#### From prior experience with this client, you know that this type of cargo follows a distribution with a mean if u = 72 lbs (32.66 kg) and a standard deviation of s = 3 lbs (1.36 kg). \n",
    "#### The only plane you currently have at Denver is a Cessna 209B Grand Caravan with a max cargo weight of 2,630 lbs (1,193 kg).\n",
    "#### Based on this information, what is the probability that all of the cargo can be safely loaded onto the plane and be transported? "
   ]
  },
  {
   "cell_type": "code",
   "execution_count": 1,
   "metadata": {},
   "outputs": [],
   "source": [
    "#Import dependancies \n",
    "import numpy as np"
   ]
  },
  {
   "cell_type": "code",
   "execution_count": 9,
   "metadata": {},
   "outputs": [],
   "source": [
    "#define variables\n",
    "u = 72\n",
    "sd = 3\n",
    "n = 36\n",
    "plane_capacity = 2630"
   ]
  },
  {
   "cell_type": "code",
   "execution_count": 8,
   "metadata": {},
   "outputs": [
    {
     "name": "stdout",
     "output_type": "stream",
     "text": [
      "0.5\n"
     ]
    }
   ],
   "source": [
    "#Calculate standard deviation of the mean\n",
    "sd_mean = sd / np.sqrt(n)\n",
    "print(sd_mean)"
   ]
  },
  {
   "cell_type": "code",
   "execution_count": 12,
   "metadata": {},
   "outputs": [
    {
     "name": "stdout",
     "output_type": "stream",
     "text": [
      "73.06 lbs per box\n"
     ]
    }
   ],
   "source": [
    "#Calculate the critical mass for boxes\n",
    "box_cm = round(plane_capacity / n,2)\n",
    "print(f\"{box_cm} lbs per box\")"
   ]
  },
  {
   "cell_type": "code",
   "execution_count": 15,
   "metadata": {},
   "outputs": [
    {
     "name": "stdout",
     "output_type": "stream",
     "text": [
      "2.12 standard deviations away from the center\n"
     ]
    }
   ],
   "source": [
    "#Calculate Z score\n",
    "z_score = round((box_cm - u) / sd_mean,2)\n",
    "print(f\"{z_score} standard deviations away from the center\")"
   ]
  },
  {
   "cell_type": "code",
   "execution_count": 16,
   "metadata": {},
   "outputs": [],
   "source": [
    "# Using http://www.z-table.com/\n",
    "p = 0.9830"
   ]
  },
  {
   "cell_type": "markdown",
   "metadata": {},
   "source": [
    "The probability that the plane can safely take off is 98.30%. The data show that the average mass of a box is going to be less than 73.06lbs per box, the critical mass of a box for this plane."
   ]
  },
  {
   "cell_type": "markdown",
   "metadata": {},
   "source": [
    "## Part 2\n",
    "#### You are a Quantitative Analyst working for a Wall-Street investment fund.\n",
    "#### The team of traders, under your supervision, earns profits which can be approximated with a Laplace distribution. Profits have a mean of 95.70 and a standard deviation of 1,247. Your team makes about 100 trades every week. \n",
    "#### Questions\n",
    "- What is the probability of your team making a loss in any given week?\n",
    "- What is the probability of your team making over 20,000 in any given week?"
   ]
  },
  {
   "cell_type": "code",
   "execution_count": 21,
   "metadata": {},
   "outputs": [],
   "source": [
    "#define variables \n",
    "mean = 95.70\n",
    "stdev = 1247\n",
    "trades_per_week = 100\n",
    "target = 20000"
   ]
  },
  {
   "cell_type": "code",
   "execution_count": 22,
   "metadata": {},
   "outputs": [
    {
     "name": "stdout",
     "output_type": "stream",
     "text": [
      "124.7\n"
     ]
    }
   ],
   "source": [
    "#Calculate standard deviation of the mean\n",
    "sd_of_mean = round(stdev / (np.sqrt(trades_per_week)),2)\n",
    "print(sd_of_mean)"
   ]
  },
  {
   "cell_type": "code",
   "execution_count": 26,
   "metadata": {},
   "outputs": [
    {
     "name": "stdout",
     "output_type": "stream",
     "text": [
      "$200.0 per trade\n"
     ]
    }
   ],
   "source": [
    "#Calculate X-critical \n",
    "x_crit = round(target / trades_per_week,2)\n",
    "print(f\"${x_crit} per trade\")"
   ]
  },
  {
   "cell_type": "code",
   "execution_count": 28,
   "metadata": {},
   "outputs": [
    {
     "name": "stdout",
     "output_type": "stream",
     "text": [
      "0.84\n"
     ]
    }
   ],
   "source": [
    "#Calculate Z score\n",
    "trade_z_score = round((x_crit - mean) / sd_of_mean,2)\n",
    "print(trade_z_score)"
   ]
  },
  {
   "cell_type": "code",
   "execution_count": 37,
   "metadata": {},
   "outputs": [],
   "source": [
    "# Using http://www.z-table.com/\n",
    "trade_p = 0.7995"
   ]
  },
  {
   "cell_type": "code",
   "execution_count": 34,
   "metadata": {},
   "outputs": [
    {
     "name": "stdout",
     "output_type": "stream",
     "text": [
      "20.0% chance of making $20000 in a given week\n"
     ]
    }
   ],
   "source": [
    "#Calculate chance of making money (going right on the distribution chart)\n",
    "chance = round(1 - trade_p,2) *100\n",
    "print(f\"{chance}% chance of making ${target} in a given week\")"
   ]
  },
  {
   "cell_type": "code",
   "execution_count": 35,
   "metadata": {},
   "outputs": [
    {
     "name": "stdout",
     "output_type": "stream",
     "text": [
      "$0 per trade\n"
     ]
    }
   ],
   "source": [
    "#Calculate chance of making a loss\n",
    "#set new x_crit of 0\n",
    "x_crit_0 = 0\n",
    "print(f\"${x_crit_0} per trade\")"
   ]
  },
  {
   "cell_type": "code",
   "execution_count": 36,
   "metadata": {},
   "outputs": [
    {
     "name": "stdout",
     "output_type": "stream",
     "text": [
      "-0.77\n"
     ]
    }
   ],
   "source": [
    "#Calculate Z score\n",
    "trade_z_score_0 = round((x_crit_0 - mean)/sd_of_mean,2)\n",
    "print(trade_z_score_0)"
   ]
  },
  {
   "cell_type": "code",
   "execution_count": 39,
   "metadata": {},
   "outputs": [
    {
     "name": "stdout",
     "output_type": "stream",
     "text": [
      "22.06% chance of making $0 in a given week\n"
     ]
    }
   ],
   "source": [
    "# Using http://www.z-table.com/\n",
    "trade_p_0 = 0.2206\n",
    "print(f\"{trade_p_0*100}% chance of making ${x_crit_0} in a given week\")"
   ]
  },
  {
   "cell_type": "markdown",
   "metadata": {},
   "source": [
    "There is a 22.06% chance of a loss in a given week, 20.05% of making $20,000 in a given week, and 57.89% chance that something else will happen in a given week. "
   ]
  },
  {
   "cell_type": "code",
   "execution_count": null,
   "metadata": {},
   "outputs": [],
   "source": []
  }
 ],
 "metadata": {
  "kernelspec": {
   "display_name": "Python 3",
   "language": "python",
   "name": "python3"
  },
  "language_info": {
   "codemirror_mode": {
    "name": "ipython",
    "version": 3
   },
   "file_extension": ".py",
   "mimetype": "text/x-python",
   "name": "python",
   "nbconvert_exporter": "python",
   "pygments_lexer": "ipython3",
   "version": "3.6.8"
  }
 },
 "nbformat": 4,
 "nbformat_minor": 2
}
